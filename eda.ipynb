{
  "cells": [
    {
      "metadata": {
        "_uuid": "8f2839f25d086af736a60e9eeb907d3b93b6e0e5",
        "_cell_guid": "b1076dfc-b9ad-4769-8c92-a6c4dae69d19",
        "trusted": true,
        "collapsed": true
      },
      "cell_type": "markdown",
      "source": "![](https://image.ibb.co/eyRTJd/dataset_cover.jpg)"
    },
    {
      "metadata": {
        "_cell_guid": "79c7e3d0-c299-4dcb-8224-4455121ee9b0",
        "collapsed": true,
        "_uuid": "d629ff2d2480ee46fbb7e2d37f6b5fab8052498a",
        "trusted": false
      },
      "cell_type": "markdown",
      "source": "- <a href='#intro'>1. Introduction</a>\n\n- <a href='#2'>2. Setup for Retrieving the Data</a>\n\n\t- <a href='#21'>2.1 Load libraries</a>\n\t- <a href='#22'>2.2 Setup BigQuery Data Connection </a>\n\n- <a href='#3'>3. Kaggle Site Analysis</a>\n\n\t- <a href='#31'>3.1 First Contentful Paint Distribution</a>\n\t- <a href='#32'>3.2 First Contentful Paint Density Sum Less Than 5 sec</a>\n\t- <a href='#33'>3.3 First Contentful Paint Density Sum Less Than 5 sec By Different Connection Speeds</a>\n\t- <a href='#34'>3.4 First Contentful Paint Density Sum By Country</a>\n\t- <a href='#35'>3.5 First Input Delay Less Than 100 ms on Kaggle</a>\n\t- <a href='#36'>3.6 First Input Delay Less Than 100 ms on all Origins in The Dataset</a>\n\t- <a href='#37'>3.7 First Input Delay Less Than 100 ms on Kaggle By Form Factor Name</a>\n\n- <a href='#4'>4. Compare Top 3 Data Science Blog Sites </a>\n\t\n\t- <a href='#41'>4.1 First Contentful Paint Density Sum Less Than 1 sec</a>\n\t- <a href='#42'>4.2 First Contentful Paint Density Sum By Sec</a>\n\t- <a href='#43'>4.3 First Contentful Paint Density Sum By Form Factor Name</a>\n\t- <a href='#44'>4.4 First Contentful Paint Density Sum By Network</a>\n\t- <a href='#45'>4.5 First Input Delay Less Than 100 ms</a>"
    },
    {
      "metadata": {
        "_uuid": "1d1e7b0e0bfbb6dc6f1f58eda5949b3fc05f7fff"
      },
      "cell_type": "markdown",
      "source": "## <a id='intro'>1. Intoduction</a>\n---------------------------------------\nThe Chrome User Experience Report provides user experience metrics for how real-world Chrome users experience popular destinations on the web.\n\nThe Chrome User Experience Report is powered by real user measurement of key user experience metrics across the public web, aggregated from users who have opted-in to syncing their browsing history, have not set up a Sync passphrase, and have usage statistic reporting enabled. The resulting data is made available via:\n\n   1. **PageSpeed** Insights, which provides URL-level user experience metrics for popular URLs that are known by Google's web crawlers.\n   2. **Public Google BigQuery** project, which aggregates user experience metrics by origin, for all origins that are known by Google's web crawlers, and split across multiple dimensions outlined below.\n   \n### <a> Metrics</a>\n---------------------------------------\n\nMetrics provided by the public Chrome User Experience Report hosted on Google BigQuery are powered by standard web platform APIs exposed by modern browsers and aggregated to origin-resolution. \n\n1. **First Paint:** First Paint reports the time when the browser first rendered after navigation. This excludes the default background paint, but includes non-default background paint. This is the first key moment developers care about in page load – when the browser has started to render the page.\n\n2. **First Contentful Paint:** First Contentful Paint reports the time when the browser first rendered any text, image (including background images), non-white canvas or SVG. This includes text with pending webfonts. This is the first time users could start consuming page content. \n\n3. **DOMContentLoaded:** The DOMContentLoaded reports the time when the initial HTML document has been completely loaded and parsed, without waiting for stylesheets, images, and subframes to finish loading.\n\n4. **onload:** The load event is fired when the page and its dependent resources have finished loading.\n\n5. **First Input Delay:** First Input Delay (FID) measures the time from when a user first interacts with your site (i.e. when they click a link, tap on a button, or use a custom, JavaScript-powered control) to the time when the browser is actually able to respond to that interaction.\n\n### <a> Dimensions</a>\n---------------------------------------\n\nPerformance of web content can vary significantly based on device type, properties of the network, and other variables.\n\n1. **Effective Connection Type:** Provides the effective connection type (“slow-2g”, “2g”, “3g”, “4g”, or “offline”) as determined by round-trip and bandwidth values based on real user measurement observations.\n\n2. **Device Type:** Coarse device classification (“phone”, “tablet”, or “desktop”), as communicated via User-Agent.\n\n3. **Country:** Geographic location of users at the country-level, inferred by their IP address. Countries are identified by their respective ISO 3166-1 alpha-2 codes.\n"
    },
    {
      "metadata": {
        "_uuid": "77cbbdfff43dc7f2887c2b95dc7469b765c92220"
      },
      "cell_type": "markdown",
      "source": "| The Experience        | The Metric           |\n| ------------- |:-------------:|\n|Is it happening?      | First Paint (FP) / First Contentful Paint (FCP) |\n| Is it useful?      | First Meaningful Paint (FMP) / Hero Element Timing      |\n| Is it usable? | Time to Interactive (TTI)      |\n| Is it delightful? | Long Tasks (technically the absence of long tasks)     |"
    },
    {
      "metadata": {
        "_uuid": "026630d148a4404f0456d755c807d86eb831bd49"
      },
      "cell_type": "markdown",
      "source": "# <a id='2'>2. Setup for Retrieving the Data</a>"
    },
    {
      "metadata": {
        "_uuid": "813be83b40127b783a02fc30ee5c2c429ba00bd6"
      },
      "cell_type": "markdown",
      "source": "## <a id='21'>2.1 Load libraries</a>"
    },
    {
      "metadata": {
        "_kg_hide-output": true,
        "trusted": true,
        "_uuid": "9a5f6d8f88a47ee145d52197025cdaadf3131972",
        "collapsed": true
      },
      "cell_type": "code",
      "source": "import bq_helper\nfrom bq_helper import BigQueryHelper\n\nimport numpy as np \nimport pandas as pd \nimport os\nimport plotly.plotly as py\nfrom plotly.offline import init_notebook_mode, iplot\nimport plotly.graph_objs as go\nimport seaborn as sns\ninit_notebook_mode(connected=True)\ncolor = sns.color_palette()\n\nimport matplotlib.pyplot as plt\nimport matplotlib\nmatplotlib.rc('figure', figsize=(10, 8))",
      "execution_count": null,
      "outputs": []
    },
    {
      "metadata": {
        "_uuid": "86e7314b20e2434b7fb7f7f0e23fac06698b7694"
      },
      "cell_type": "markdown",
      "source": "## <a id='22'>2.2 Setup BigQuery Data Connection </a>"
    },
    {
      "metadata": {
        "_kg_hide-output": true,
        "trusted": true,
        "collapsed": true,
        "_uuid": "1f8614cfa06f7845bbf56f627cc16fde32fb7f1e"
      },
      "cell_type": "code",
      "source": "# https://www.kaggle.com/sohier/introduction-to-the-bq-helper-package\nchromeUXreport = bq_helper.BigQueryHelper(active_project=\"bigquery-public-data\",\n                                   dataset_name=\"chrome-ux-report.all\")\nchromeUXreportUS = bq_helper.BigQueryHelper(active_project=\"bigquery-public-data\",\n                                   dataset_name=\"chrome-ux-report.country_us\")\nchromeUXreportIN = bq_helper.BigQueryHelper(active_project=\"bigquery-public-data\",\n                                   dataset_name=\"chrome-ux-report.country_in\")",
      "execution_count": null,
      "outputs": []
    },
    {
      "metadata": {
        "_uuid": "930728d9a1a6ee24613ce3ad15844f7a2b7609c2"
      },
      "cell_type": "markdown",
      "source": "# <a id='3'>3. Kaggle Site Analysis</a>"
    },
    {
      "metadata": {
        "trusted": true,
        "collapsed": true,
        "_uuid": "648649299a0262fe9f2f1fd87caa5c13f76befef"
      },
      "cell_type": "markdown",
      "source": "## <a id='31'>3.1 First Contentful Paint Distribution</a>"
    },
    {
      "metadata": {
        "_kg_hide-output": true,
        "trusted": true,
        "_uuid": "5cbe6502803d2230b334d6a86fd0ad169d794a24",
        "collapsed": true
      },
      "cell_type": "code",
      "source": "query1 = \"\"\"SELECT\n    bin.start,\n    SUM(bin.density) AS density\nFROM\n    `chrome-ux-report.all.201806`,\n    UNNEST(first_contentful_paint.histogram.bin) AS bin\nWHERE\n    origin = 'https://www.kaggle.com'\nGROUP BY\n    bin.start\nORDER BY\n    bin.start;\n        \"\"\"\n\nprint(chromeUXreport.estimate_query_size(query1))\nresponse1 = chromeUXreport.query_to_pandas_safe(query1, max_gb_scanned= 5)\nresponse1.head(20)",
      "execution_count": null,
      "outputs": []
    },
    {
      "metadata": {
        "_kg_hide-output": true,
        "trusted": true,
        "_uuid": "73fbd5685c4e1d7fe8d78adae76fca69611500cc",
        "collapsed": true
      },
      "cell_type": "code",
      "source": "result1 = response1.head(10)\ntrace1 = go.Bar(\n                x = result1.start,\n                y = result1.density,\n                name = \"citations\",\n                marker = dict(color = 'rgba(0, 0, 255, 0.8)',\n                             line=dict(color='rgb(0,0,0)',width=1.5)),\n                text = result1.start)\ndata = [trace1]\nlayout = go.Layout(barmode = \"group\",title='First Contentful Paint Density Per Bin', xaxis = dict(title='Start (ms)'), yaxis = dict(title='Density'))\nfig = go.Figure(data = data, layout = layout)\niplot(fig)",
      "execution_count": null,
      "outputs": []
    },
    {
      "metadata": {
        "trusted": true,
        "collapsed": true,
        "_uuid": "7d8e81244e47d0f97d8ff82ea78dd22f7f12d466"
      },
      "cell_type": "markdown",
      "source": "## <a id='32'>3.2 First Contentful Paint Density Sum Less Than 5 sec</a>"
    },
    {
      "metadata": {
        "trusted": true,
        "_uuid": "e4c3372d8eafcb842c5377bba1196d9d8d70c265",
        "collapsed": true
      },
      "cell_type": "code",
      "source": "query2 = \"\"\"SELECT\n    SUM(bin.density) AS density\nFROM\n    `chrome-ux-report.all.201806`,\n    UNNEST(first_contentful_paint.histogram.bin) AS bin\nWHERE\n    bin.start < 5000 AND\n    origin = 'https://www.kaggle.com';\n        \"\"\"\nprint(chromeUXreport.estimate_query_size(query2))\nresponse2 = chromeUXreport.query_to_pandas_safe(query2,max_gb_scanned=5)\nresponse2.head(20)",
      "execution_count": null,
      "outputs": []
    },
    {
      "metadata": {
        "_uuid": "a9c27d4d7b6d661b8cdf24380bf9ad5b114dc633"
      },
      "cell_type": "markdown",
      "source": "## <a id='33'>3.3 First Contentful Paint Density Sum Less Than 5 sec By Different Connection Speeds</a>"
    },
    {
      "metadata": {
        "trusted": true,
        "_uuid": "ecac60857288af73431db162c2d1a0213c3929d9",
        "collapsed": true
      },
      "cell_type": "code",
      "source": "query3 = \"\"\"\n#standardSQL\nSELECT\n    effective_connection_type.name AS ect,\n    SUM(bin.density) AS density\nFROM\n    `chrome-ux-report.all.201806`,\n    UNNEST(first_contentful_paint.histogram.bin) AS bin\nWHERE\n    bin.end <= 5000 AND\n    origin = 'https://www.kaggle.com'\nGROUP BY\n    ect\nORDER BY\n    density DESC;\n        \"\"\"\nprint(chromeUXreport.estimate_query_size(query3))\nresponse3 = chromeUXreport.query_to_pandas_safe(query3,max_gb_scanned=5)\nresponse3.head(20)",
      "execution_count": null,
      "outputs": []
    },
    {
      "metadata": {
        "trusted": true,
        "_uuid": "6c4c4fb71c8a2cb80cde3b6c846e5e7b60dcd72f",
        "collapsed": true
      },
      "cell_type": "code",
      "source": "result3 = response3\nsns.factorplot(x='ect', y='density', data=result3, kind='bar', size=4, aspect=2.0)",
      "execution_count": null,
      "outputs": []
    },
    {
      "metadata": {
        "_uuid": "2c6a03f5743938fac33e1877f12a206389c31dc5"
      },
      "cell_type": "markdown",
      "source": "## <a id='34'>3.4 First Contentful Paint Density Sum By Country</a>"
    },
    {
      "metadata": {
        "trusted": true,
        "_uuid": "1c14d9f228b5d67cbe7cbe2a381abf338f067fc4",
        "collapsed": true
      },
      "cell_type": "code",
      "source": "query4 = \"\"\"\n#standardSQL\nWITH\n    countries AS (\n      SELECT *, 'All' AS country FROM `chrome-ux-report.all.201806`\n    UNION ALL\n      SELECT *, 'India' AS country FROM `chrome-ux-report.country_in.201806`\n    UNION ALL\n      SELECT *, 'US' AS country FROM `chrome-ux-report.country_us.201806`)\n      \nSELECT\n    country,\n    effective_connection_type.name AS ect,\n    SUM(bin.density) AS density\nFROM\n    countries,\n    UNNEST(first_contentful_paint.histogram.bin) AS bin\nWHERE\n    bin.end <= 5000 AND\n    origin = 'https://www.kaggle.com'\nGROUP BY\n    country,\n    ect\nORDER BY\n    density DESC;\n        \"\"\"\nprint(chromeUXreport.estimate_query_size(query4))\nresponse4 = chromeUXreport.query_to_pandas_safe(query4,max_gb_scanned=6)\nresponse4.head(20)",
      "execution_count": null,
      "outputs": []
    },
    {
      "metadata": {
        "trusted": true,
        "_uuid": "8753cccba8a16df0e94eac41bfcc350569b4d218",
        "collapsed": true
      },
      "cell_type": "code",
      "source": "result4 = response4\nsns.factorplot(x='country', y='density', hue='ect', data=result4, kind='bar', size=4, aspect=2.0)",
      "execution_count": null,
      "outputs": []
    },
    {
      "metadata": {
        "_uuid": "a02f0b820d9b8a92b23d37156fd701f6742ca802"
      },
      "cell_type": "markdown",
      "source": "## <a id='35'>3.5 First Input Delay Less Than 100 ms on Kaggle</a>"
    },
    {
      "metadata": {
        "trusted": true,
        "_uuid": "d7265d5c31749f45048298e2c66e5b67bece344b",
        "collapsed": true
      },
      "cell_type": "code",
      "source": "query5 = \"\"\"\nSELECT\n  ROUND(SUM(IF(fid.start < 100, fid.density, 0)), 4) AS fast_fid\nFROM\n  `chrome-ux-report.all.201806`,\n  UNNEST(experimental.first_input_delay.histogram.bin) AS fid\nWHERE\n  origin = 'https://www.kaggle.com';\n        \"\"\"\nprint(chromeUXreport.estimate_query_size(query5))\nresponse5 = chromeUXreport.query_to_pandas_safe(query5,max_gb_scanned=3)\nresponse5.head(20)",
      "execution_count": null,
      "outputs": []
    },
    {
      "metadata": {
        "_uuid": "6c61e9d8909e22450b2c219a661bf76ee336c488"
      },
      "cell_type": "markdown",
      "source": "## <a id='36'>3.6 First Input Delay Less Than 100 ms on all Origins in The Dataset</a>"
    },
    {
      "metadata": {
        "trusted": true,
        "_uuid": "edf67645b768939337f3a3e7c6b63a96b8c4036f",
        "collapsed": true
      },
      "cell_type": "code",
      "source": "query6 = \"\"\"\nSELECT\n  ROUND(SUM(IF(fid.start < 100, fid.density, 0)) / SUM(fid.density), 4) AS fast_fid\nFROM\n  `chrome-ux-report.all.201806`,\n  UNNEST(experimental.first_input_delay.histogram.bin) AS fid;\n        \"\"\"\nprint(chromeUXreport.estimate_query_size(query6))\nresponse6 = chromeUXreport.query_to_pandas_safe(query6,max_gb_scanned=3)\nresponse6.head(20)",
      "execution_count": null,
      "outputs": []
    },
    {
      "metadata": {
        "_uuid": "48e5f0c00274d145da1c47ab0b5755e1495e73d5"
      },
      "cell_type": "markdown",
      "source": "## <a id='37'>3.7 First Input Delay Less Than 100 ms on Kaggle By Form Factor Name</a>"
    },
    {
      "metadata": {
        "trusted": true,
        "_uuid": "0cbc594ae24a04ef9df00a6a7a6951edaa8d9cf4",
        "collapsed": true
      },
      "cell_type": "code",
      "source": "query7 = \"\"\"\nSELECT\n  form_factor.name AS form_factor,\n  ROUND(SUM(IF(fid.start < 100, fid.density, 0)) / SUM(fid.density), 4) AS fast_fid\nFROM\n  `chrome-ux-report.all.201806`,\n  UNNEST(experimental.first_input_delay.histogram.bin) AS fid\nWHERE\n  origin = 'https://www.kaggle.com'\nGROUP BY\n  form_factor;\n        \"\"\"\nprint(chromeUXreport.estimate_query_size(query7))\nresponse7 = chromeUXreport.query_to_pandas_safe(query7,max_gb_scanned=3)\nresponse7.head(20)",
      "execution_count": null,
      "outputs": []
    },
    {
      "metadata": {
        "trusted": true,
        "_uuid": "e22d7a7d345b52f309c87a7669c939fdd9fb8996",
        "collapsed": true
      },
      "cell_type": "code",
      "source": "result7 = response7\nsns.factorplot(x='form_factor', y='fast_fid', data=result7, kind='bar', size=4, aspect=2.0)",
      "execution_count": null,
      "outputs": []
    },
    {
      "metadata": {
        "_uuid": "5cbbf21b6f2396777143042646cf5cbd40482da3"
      },
      "cell_type": "markdown",
      "source": "# <a id='4'>4. Compare Top 3 Data Science Blog Sites </a>"
    },
    {
      "metadata": {
        "_uuid": "71eee38c07addd637484775884cb8bf25ba769e0"
      },
      "cell_type": "markdown",
      "source": "## <a id='41'>4.1 First Contentful Paint Density Sum Less Than 1 sec</a>"
    },
    {
      "metadata": {
        "trusted": true,
        "_uuid": "786566abc0b4c97c7841792f2980ac0a22633e04",
        "collapsed": true
      },
      "cell_type": "code",
      "source": "query8 = \"\"\"#standardSQL\nSELECT\n    origin,\n    ROUND(SUM(IF(fcp.start < 1000, fcp.density, 0)) / SUM(fcp.density) * 100) AS fast_fcp\nFROM\n    `chrome-ux-report.all.201806`,\n    UNNEST(first_contentful_paint.histogram.bin) AS fcp\nWHERE\n    origin IN ('https://www.analyticsvidhya.com', 'https://www.kdnuggets.com','https://medium.com')\nGROUP BY\n    origin;\n        \"\"\"\nprint(chromeUXreport.estimate_query_size(query8))\nresponse8 = chromeUXreport.query_to_pandas_safe(query8,max_gb_scanned=5)\nresponse8.head(20)",
      "execution_count": null,
      "outputs": []
    },
    {
      "metadata": {
        "trusted": true,
        "_uuid": "2290c8190c15108758e45513d32c33ba513bd28f",
        "collapsed": true
      },
      "cell_type": "code",
      "source": "result8 = response8\nsns.factorplot(x='origin', y='fast_fcp', data=result8, kind='bar', size=4, aspect=2.0)",
      "execution_count": null,
      "outputs": []
    },
    {
      "metadata": {
        "_uuid": "91c3a1147ee9db020970723f59e99c74c5eb6c2e"
      },
      "cell_type": "markdown",
      "source": "## <a id='42'>4.2 First Contentful Paint Density Sum By Sec</a>"
    },
    {
      "metadata": {
        "trusted": true,
        "_uuid": "9cea3d9dde83a27c95ded06602e6dd9b55f24300",
        "collapsed": true
      },
      "cell_type": "code",
      "source": "query9 = \"\"\"#standardSQL\nSELECT\n  origin,\n  ROUND(SUM(IF(bin.start < 1000, bin.density, 0)) / SUM(bin.density), 4) AS fast_fcp,\n  ROUND(SUM(IF(bin.start >= 1000 AND bin.start < 3000, bin.density, 0)) / SUM(bin.density), 4) AS avg_fcp,\n  ROUND(SUM(IF(bin.start >= 3000, bin.density, 0)) / SUM(bin.density), 4) AS slow_fcp\nFROM\n    `chrome-ux-report.all.201806`,\n    UNNEST(first_contentful_paint.histogram.bin) AS bin\nWHERE\n    origin IN ('https://www.analyticsvidhya.com', 'https://www.kdnuggets.com','https://medium.com')\nGROUP BY\n    origin;\n        \"\"\"\nprint(chromeUXreport.estimate_query_size(query9))\nresponse9 = chromeUXreport.query_to_pandas_safe(query9,max_gb_scanned=5)\nresponse9.head(20)",
      "execution_count": null,
      "outputs": []
    },
    {
      "metadata": {
        "trusted": true,
        "_uuid": "e1c0a43146ace56cc94b372a6873ddb7059bf60b",
        "collapsed": true
      },
      "cell_type": "code",
      "source": "barWidth = 0.85\nr = response9.origin\ngreenBars = response9.fast_fcp\norangeBars = response9.avg_fcp\nblueBars = response9.slow_fcp\n# Create green Bars\nplt.bar(r, greenBars, color='#b5ffb9', edgecolor='white', width=barWidth)\n# Create orange Bars\nplt.bar(r, orangeBars, bottom=greenBars, color='#f9bc86', edgecolor='white', width=barWidth)\n# Create blue Bars\nplt.bar(r, blueBars, bottom=[i+j for i,j in zip(greenBars, orangeBars)], color='#a3acff', edgecolor='white', width=barWidth)",
      "execution_count": null,
      "outputs": []
    },
    {
      "metadata": {
        "_uuid": "4164e1f74b47513639b72e1924394f35420044c7"
      },
      "cell_type": "markdown",
      "source": "## <a id='43'>4.3 First Contentful Paint Density Sum By Form Factor Name</a>"
    },
    {
      "metadata": {
        "trusted": true,
        "_uuid": "08a9894b947b1d4130635762b3f7796ae889e343",
        "collapsed": true
      },
      "cell_type": "code",
      "source": "query10 = \"\"\"#standardSQL\nSELECT\n    origin,\n    ROUND(SUM(IF(form_factor.name = 'desktop', fcp.density, 0)) / SUM(fcp.density) * 100) AS pct_desktop,\n    ROUND(SUM(IF(form_factor.name = 'phone', fcp.density, 0)) / SUM(fcp.density) * 100) AS pct_phone,\n    ROUND(SUM(IF(form_factor.name = 'tablet', fcp.density, 0)) / SUM(fcp.density) * 100) AS pct_tablet\n    \nFROM\n    `chrome-ux-report.all.201806`,\n    UNNEST(first_contentful_paint.histogram.bin) AS fcp\nWHERE\n    origin IN ('https://www.analyticsvidhya.com', 'https://www.kdnuggets.com','https://medium.com')\nGROUP BY\n    origin;\n        \"\"\"\nprint(chromeUXreport.estimate_query_size(query10))\nresponse10 = chromeUXreport.query_to_pandas_safe(query10,max_gb_scanned=3)\nresponse10.head(20)",
      "execution_count": null,
      "outputs": []
    },
    {
      "metadata": {
        "trusted": true,
        "_uuid": "4fa8baee40eb3b5a4ef329486a4e61ae55b58db6",
        "collapsed": true
      },
      "cell_type": "code",
      "source": "barWidth = 0.85\nr = response10.origin\ngreenBars = response10.pct_desktop\norangeBars = response10.pct_phone\nblueBars = response10.pct_tablet\n\n# Create green Bars\nplt.bar(r, greenBars, color='#b5ffb9', edgecolor='white', width=barWidth)\n# Create orange Bars\nplt.bar(r, orangeBars, bottom=greenBars, color='#f9bc86', edgecolor='white', width=barWidth)\n# Create blue Bars\nplt.bar(r, blueBars, bottom=[i+j for i,j in zip(greenBars, orangeBars)], color='#a3acff', edgecolor='white', width=barWidth)",
      "execution_count": null,
      "outputs": []
    },
    {
      "metadata": {
        "_uuid": "0c879ef9b68d4dd6c7cda6c76ef04d875dfaef1e"
      },
      "cell_type": "markdown",
      "source": "## <a id='44'>4.4 First Contentful Paint Density Sum By Network</a>"
    },
    {
      "metadata": {
        "trusted": true,
        "_uuid": "43510ad3789c86f98f18fe4d904aa35817939c80",
        "collapsed": true
      },
      "cell_type": "code",
      "source": "query11 = \"\"\"#standardSQL\nSELECT\n  origin,\n  effective_connection_type.name AS ect,\n  ROUND(SUM(bin.density), 4) AS density\n    \nFROM\n    `chrome-ux-report.all.201806`,\n    UNNEST(first_contentful_paint.histogram.bin) AS bin\nWHERE\n    origin IN ('https://www.analyticsvidhya.com', 'https://www.kdnuggets.com','https://medium.com')\nGROUP BY\n    origin,\n    ect\nORDER BY\n    origin,\n    ect;\n        \"\"\"\nprint(chromeUXreport.estimate_query_size(query11))\nresponse11 = chromeUXreport.query_to_pandas_safe(query11,max_gb_scanned=3)\nresponse11.head(20)",
      "execution_count": null,
      "outputs": []
    },
    {
      "metadata": {
        "trusted": true,
        "_uuid": "9db7a0e720db4f5ae866021bb52070cdf6190c81",
        "collapsed": true
      },
      "cell_type": "code",
      "source": "result11 = response11\nsns.factorplot(x='origin', y='density', hue='ect', data=result11, kind='bar', size=4, aspect=2.0)",
      "execution_count": null,
      "outputs": []
    },
    {
      "metadata": {
        "_uuid": "f4c5d5c3e9447151a180521163aeb031683a1f6b"
      },
      "cell_type": "markdown",
      "source": "## <a id='45'>4.5 First Input Delay Less Than 100 ms</a>"
    },
    {
      "metadata": {
        "trusted": true,
        "_uuid": "53ca0d4508cd07dd4f973266237231c0a5f88967",
        "collapsed": true
      },
      "cell_type": "code",
      "source": "query12 = \"\"\"\nSELECT\n  origin,\n  ROUND(SUM(IF(fid.start < 100, fid.density, 0)), 4) AS fast_fid\nFROM\n  `chrome-ux-report.all.201806`,\n  UNNEST(experimental.first_input_delay.histogram.bin) AS fid\nWHERE\n  origin IN ('https://www.analyticsvidhya.com', 'https://www.kdnuggets.com','https://medium.com')\nGROUP BY\n  origin;\n        \"\"\"\nprint(chromeUXreport.estimate_query_size(query12))\nresponse12 = chromeUXreport.query_to_pandas_safe(query12,max_gb_scanned=3)\nresponse12.head(20)",
      "execution_count": null,
      "outputs": []
    },
    {
      "metadata": {
        "trusted": true,
        "_uuid": "9298dcd61ef976fcda454c9763ed24fc8983d19c",
        "collapsed": true
      },
      "cell_type": "code",
      "source": "result12 = response12\nsns.factorplot(x='origin', y='fast_fid', data=result12, kind='bar', size=4, aspect=2.0)",
      "execution_count": null,
      "outputs": []
    },
    {
      "metadata": {
        "_uuid": "13a72ff119d352f1e9e46d1166f3efdfcdce58f5"
      },
      "cell_type": "markdown",
      "source": "# More To Come. Stay Tuned. !!"
    },
    {
      "metadata": {
        "trusted": true,
        "collapsed": true,
        "_uuid": "678a45e1039958c21630f5a6d944af9fbe8b0711"
      },
      "cell_type": "code",
      "source": "",
      "execution_count": null,
      "outputs": []
    }
  ],
  "metadata": {
    "kernelspec": {
      "display_name": "Python 3",
      "language": "python",
      "name": "python3"
    },
    "language_info": {
      "name": "python",
      "version": "3.6.6",
      "mimetype": "text/x-python",
      "codemirror_mode": {
        "name": "ipython",
        "version": 3
      },
      "pygments_lexer": "ipython3",
      "nbconvert_exporter": "python",
      "file_extension": ".py"
    }
  },
  "nbformat": 4,
  "nbformat_minor": 1
}